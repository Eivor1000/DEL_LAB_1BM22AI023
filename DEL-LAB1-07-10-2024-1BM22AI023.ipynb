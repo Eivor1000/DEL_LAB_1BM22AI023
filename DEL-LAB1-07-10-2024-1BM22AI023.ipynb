{
 "cells": [
  {
   "cell_type": "markdown",
   "id": "3d4f4f54",
   "metadata": {},
   "source": [
    "***LAB-1\n",
    "Q1.Create and implement a basic neuron model with a computations framework. Integrate essential elements like input nodes, weight parameters,bias and an activation fucntion including but not limited to (sigmoid,tangent,rectified linear unit,hyperbolic) to construct a comprehensive representation of neuron. Evaluate and observe how each activation function influences the network behaviour & effectiveness in handling different types of data***"
   ]
  },
  {
   "cell_type": "code",
   "execution_count": 3,
   "id": "5b400098",
   "metadata": {},
   "outputs": [
    {
     "name": "stdout",
     "output_type": "stream",
     "text": [
      "Activation Function: sigmoid, Output: [0.72863443]\n",
      "Activation Function: tanh, Output: [0.31523288]\n",
      "Activation Function: relu, Output: [0.]\n"
     ]
    }
   ],
   "source": [
    "import numpy as np\n",
    "\n",
    "class Neuron:\n",
    "    def __init__(self, num_inputs, activation_function='sigmoid'):\n",
    "        self.weights = np.random.rand(num_inputs)\n",
    "        self.bias = np.random.rand(1)\n",
    "        self.activation_function = activation_function\n",
    "\n",
    "    def activate(self, x):\n",
    "        if self.activation_function == 'sigmoid':\n",
    "            return 1 / (1 + np.exp(-x))\n",
    "        elif self.activation_function == 'tanh':\n",
    "            return np.tanh(x)\n",
    "        elif self.activation_function == 'relu':\n",
    "            return np.maximum(0, x)\n",
    "        else:\n",
    "            raise ValueError(\"Unsupported activation function\")\n",
    "\n",
    "    def forward(self, inputs):\n",
    "        z = np.dot(inputs, self.weights) + self.bias\n",
    "        return self.activate(z)\n",
    "\n",
    "def evaluate_neuron(activation_function):\n",
    "    neuron = Neuron(num_inputs=3, activation_function=activation_function)\n",
    "    sample_inputs = np.array([0.5, -1.5, 2.0])\n",
    "    output = neuron.forward(sample_inputs)\n",
    "    print(f\"Activation Function: {activation_function}, Output: {output}\")\n",
    "activation_functions = ['sigmoid', 'tanh', 'relu']\n",
    "for func in activation_functions:\n",
    "    evaluate_neuron(func)\n"
   ]
  }
 ],
 "metadata": {
  "kernelspec": {
   "display_name": "Python 3 (ipykernel)",
   "language": "python",
   "name": "python3"
  },
  "language_info": {
   "codemirror_mode": {
    "name": "ipython",
    "version": 3
   },
   "file_extension": ".py",
   "mimetype": "text/x-python",
   "name": "python",
   "nbconvert_exporter": "python",
   "pygments_lexer": "ipython3",
   "version": "3.11.4"
  }
 },
 "nbformat": 4,
 "nbformat_minor": 5
}
